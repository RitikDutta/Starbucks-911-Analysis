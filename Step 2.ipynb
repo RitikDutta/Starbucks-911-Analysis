{
 "cells": [
  {
   "cell_type": "markdown",
   "metadata": {},
   "source": [
    "<h1>CS210 Project - File 2</h1>\n",
    "Final re-arrangements of dataframes and feature-engineering before statistical analysis & machine learning"
   ]
  },
  {
   "cell_type": "code",
   "execution_count": 1,
   "metadata": {
    "collapsed": true
   },
   "outputs": [],
   "source": [
    "import pandas as pd\n",
    "import numpy as np\n",
    "import reverse_geocoder as rg"
   ]
  },
  {
   "cell_type": "code",
   "execution_count": 2,
   "metadata": {
    "collapsed": true
   },
   "outputs": [],
   "source": [
    "starbucks = pd.read_pickle('./pickles/montgomeryStarbucksStores.pickle')\n",
    "emergency = pd.read_pickle('./pickles/emergencyCalls.pickle')"
   ]
  },
  {
   "cell_type": "markdown",
   "metadata": {},
   "source": [
    "We will normalize our data to population, for this I've gathered the population data for the townships in Montgomery County."
   ]
  },
  {
   "cell_type": "code",
   "execution_count": 3,
   "metadata": {
    "collapsed": true
   },
   "outputs": [],
   "source": [
    "# 2010 census was used to gather the following data\n",
    "populations = {\n",
    "    \"Bala-Cynwyd\": 9619, \"King of Prussia\": 19936,\n",
    "    \"Montgomeryville\": 12624, \"Plymouth Meeting\": 6177,\n",
    "    \"Willow Grove\": 15726, \"Rockledge\": 24998,\n",
    "    \"Flourtown\": 4538, \"Ardmore\": 24486,\n",
    "    \"Horsham\": 14842, \"Wyncote\": 3044,\n",
    "    \"Trappe\": 3516, \"Bridgeport\": 4558,\n",
    "    \"Pottstown\": 22392, \"Trooper\": 5744,\n",
    "    \"Narberth\": 4284, \"Norristown\": 34347,\n",
    "    \"Glenside\": 8384, \"Jenkintown\": 4426,\n",
    "    \"Conshohocken\": 7842, \"Wyndmoor\": 5498,\n",
    "    \"Spring House\": 3804, \"Audubon\": 8814,\n",
    "    \"Dresher\": 5395, \"Bryn Mawr\": 3779,\n",
    "    \"Lansdale\": 16282, \"Sanatoga\": 8378,\n",
    "    \"Collegeville\": 5094\n",
    "    }"
   ]
  },
  {
   "cell_type": "markdown",
   "metadata": {},
   "source": [
    "Build a new dataframe consisting of the following:<ul>\n",
    "            <li>Township Name</li>\n",
    "            <li>Township Population</li>\n",
    "            <li>Number of people per store living in the township</li>\n",
    "            <li>Number of 911 calls received in the township</li>\n",
    "        </ul>\n",
    "\n",
    "To do so, first we will obtain the name of the township of locations of each store"
   ]
  },
  {
   "cell_type": "code",
   "execution_count": 12,
   "metadata": {},
   "outputs": [
    {
     "data": {
      "text/html": [
       "<div>\n",
       "<table border=\"1\" class=\"dataframe\">\n",
       "  <thead>\n",
       "    <tr style=\"text-align: right;\">\n",
       "      <th></th>\n",
       "      <th>Town</th>\n",
       "    </tr>\n",
       "  </thead>\n",
       "  <tbody>\n",
       "    <tr>\n",
       "      <th>0</th>\n",
       "      <td>Rockledge</td>\n",
       "    </tr>\n",
       "    <tr>\n",
       "      <th>1</th>\n",
       "      <td>Willow Grove</td>\n",
       "    </tr>\n",
       "    <tr>\n",
       "      <th>2</th>\n",
       "      <td>Ardmore</td>\n",
       "    </tr>\n",
       "    <tr>\n",
       "      <th>3</th>\n",
       "      <td>Bala-Cynwyd</td>\n",
       "    </tr>\n",
       "    <tr>\n",
       "      <th>4</th>\n",
       "      <td>Bryn Mawr</td>\n",
       "    </tr>\n",
       "  </tbody>\n",
       "</table>\n",
       "</div>"
      ],
      "text/plain": [
       "           Town\n",
       "0     Rockledge\n",
       "1  Willow Grove\n",
       "2       Ardmore\n",
       "3   Bala-Cynwyd\n",
       "4     Bryn Mawr"
      ]
     },
     "execution_count": 12,
     "metadata": {},
     "output_type": "execute_result"
    }
   ],
   "source": [
    "search_results = rg.search(list(zip(list(starbucks.Latitude), list(starbucks.Longitude))))\n",
    "sbTowns = pd.DataFrame([x['name'] for x in search_results], columns=['Town'])\n",
    "sbTowns.head()"
   ]
  },
  {
   "cell_type": "markdown",
   "metadata": {},
   "source": [
    "We will do the same for the 911 data; however we don't have zip codes for this data set, instead what we have is the post code and that is not useful for the reverse geocoding library we're using. We will clean the data further"
   ]
  },
  {
   "cell_type": "code",
   "execution_count": 13,
   "metadata": {},
   "outputs": [
    {
     "data": {
      "text/html": [
       "<div>\n",
       "<table border=\"1\" class=\"dataframe\">\n",
       "  <thead>\n",
       "    <tr style=\"text-align: right;\">\n",
       "      <th></th>\n",
       "      <th>lat</th>\n",
       "      <th>lng</th>\n",
       "      <th>title</th>\n",
       "    </tr>\n",
       "  </thead>\n",
       "  <tbody>\n",
       "    <tr>\n",
       "      <th>0</th>\n",
       "      <td>40.297876</td>\n",
       "      <td>-75.581294</td>\n",
       "      <td>EMS: BACK PAINS/INJURY</td>\n",
       "    </tr>\n",
       "    <tr>\n",
       "      <th>1</th>\n",
       "      <td>40.258061</td>\n",
       "      <td>-75.264680</td>\n",
       "      <td>EMS: DIABETIC EMERGENCY</td>\n",
       "    </tr>\n",
       "    <tr>\n",
       "      <th>2</th>\n",
       "      <td>40.121182</td>\n",
       "      <td>-75.351975</td>\n",
       "      <td>Fire: GAS-ODOR/LEAK</td>\n",
       "    </tr>\n",
       "    <tr>\n",
       "      <th>3</th>\n",
       "      <td>40.116153</td>\n",
       "      <td>-75.343513</td>\n",
       "      <td>EMS: CARDIAC EMERGENCY</td>\n",
       "    </tr>\n",
       "    <tr>\n",
       "      <th>5</th>\n",
       "      <td>40.253473</td>\n",
       "      <td>-75.283245</td>\n",
       "      <td>EMS: HEAD INJURY</td>\n",
       "    </tr>\n",
       "  </tbody>\n",
       "</table>\n",
       "</div>"
      ],
      "text/plain": [
       "         lat        lng                    title\n",
       "0  40.297876 -75.581294   EMS: BACK PAINS/INJURY\n",
       "1  40.258061 -75.264680  EMS: DIABETIC EMERGENCY\n",
       "2  40.121182 -75.351975      Fire: GAS-ODOR/LEAK\n",
       "3  40.116153 -75.343513   EMS: CARDIAC EMERGENCY\n",
       "5  40.253473 -75.283245         EMS: HEAD INJURY"
      ]
     },
     "execution_count": 13,
     "metadata": {},
     "output_type": "execute_result"
    }
   ],
   "source": [
    "em = emergency.drop('zip', axis='columns')\n",
    "em = em.drop('timeStamp', axis='columns')\n",
    "em.head()"
   ]
  },
  {
   "cell_type": "markdown",
   "metadata": {},
   "source": [
    "The reverse geocoder works in a feasible time if we provide the lat/long pairs in advance. Thus we do the following"
   ]
  },
  {
   "cell_type": "code",
   "execution_count": 14,
   "metadata": {
    "collapsed": true
   },
   "outputs": [],
   "source": [
    "# 1 - Obtain the reverse geocoding results\n",
    "coordinates = zip(list(em.lat), list(em.lng))\n",
    "reverseGeocodingOutput = rg.search(list(coordinates))"
   ]
  },
  {
   "cell_type": "code",
   "execution_count": 15,
   "metadata": {
    "collapsed": true
   },
   "outputs": [],
   "source": [
    "# 2 - Obtain the indexes of rows for which the call originates from within the Montgomery County\n",
    "montgomery_indexes = []\n",
    "town_list = list(sbTowns.Town)\n",
    "for i in range(len(reverseGeocodingOutput)):\n",
    "    if reverseGeocodingOutput[i]['name'] in town_list:\n",
    "        montgomery_indexes.append(i)"
   ]
  },
  {
   "cell_type": "code",
   "execution_count": 16,
   "metadata": {},
   "outputs": [
    {
     "data": {
      "text/html": [
       "<div>\n",
       "<table border=\"1\" class=\"dataframe\">\n",
       "  <thead>\n",
       "    <tr style=\"text-align: right;\">\n",
       "      <th></th>\n",
       "      <th>Lat</th>\n",
       "      <th>Lng</th>\n",
       "      <th>Title</th>\n",
       "    </tr>\n",
       "  </thead>\n",
       "  <tbody>\n",
       "    <tr>\n",
       "      <th>0</th>\n",
       "      <td>40.258061</td>\n",
       "      <td>-75.264680</td>\n",
       "      <td>EMS: DIABETIC EMERGENCY</td>\n",
       "    </tr>\n",
       "    <tr>\n",
       "      <th>1</th>\n",
       "      <td>40.121182</td>\n",
       "      <td>-75.351975</td>\n",
       "      <td>Fire: GAS-ODOR/LEAK</td>\n",
       "    </tr>\n",
       "    <tr>\n",
       "      <th>2</th>\n",
       "      <td>40.116153</td>\n",
       "      <td>-75.343513</td>\n",
       "      <td>EMS: CARDIAC EMERGENCY</td>\n",
       "    </tr>\n",
       "  </tbody>\n",
       "</table>\n",
       "</div>"
      ],
      "text/plain": [
       "         Lat        Lng                    Title\n",
       "0  40.258061 -75.264680  EMS: DIABETIC EMERGENCY\n",
       "1  40.121182 -75.351975      Fire: GAS-ODOR/LEAK\n",
       "2  40.116153 -75.343513   EMS: CARDIAC EMERGENCY"
      ]
     },
     "execution_count": 16,
     "metadata": {},
     "output_type": "execute_result"
    }
   ],
   "source": [
    "# 3 - Select the rows we have just distinguished from the 911 calls data frame\n",
    "filtered_rows = []\n",
    "for i in montgomery_indexes:\n",
    "    filtered_rows.append(list(em.iloc[i]))\n",
    "filtered_em = pd.DataFrame(filtered_rows)\n",
    "filtered_em.reset_index()\n",
    "filtered_em.columns = ['Lat', 'Lng', 'Title']\n",
    "filtered_em.head(3)"
   ]
  },
  {
   "cell_type": "markdown",
   "metadata": {},
   "source": [
    "We know that the rows in the filtered_em data frame has Starbucks stores. We need to get a data frame consisting of the town name instead of lat-long pairs."
   ]
  },
  {
   "cell_type": "code",
   "execution_count": 17,
   "metadata": {
    "collapsed": true
   },
   "outputs": [],
   "source": [
    "coordinates = list(zip(list(filtered_em.Lat), list(filtered_em.Lng)))\n",
    "em_search = rg.search(coordinates)\n",
    "em_with_town = filtered_em.drop(filtered_em.columns[[0, 1]], axis=\"columns\") # drop Lat & Lng columns"
   ]
  },
  {
   "cell_type": "code",
   "execution_count": 18,
   "metadata": {
    "collapsed": true
   },
   "outputs": [],
   "source": [
    "em_with_town['Town'] = [x['name'] for x in em_search]"
   ]
  },
  {
   "cell_type": "code",
   "execution_count": 20,
   "metadata": {},
   "outputs": [
    {
     "data": {
      "text/html": [
       "<div>\n",
       "<table border=\"1\" class=\"dataframe\">\n",
       "  <thead>\n",
       "    <tr style=\"text-align: right;\">\n",
       "      <th></th>\n",
       "      <th>Title</th>\n",
       "      <th>Town</th>\n",
       "    </tr>\n",
       "  </thead>\n",
       "  <tbody>\n",
       "    <tr>\n",
       "      <th>0</th>\n",
       "      <td>EMS: DIABETIC EMERGENCY</td>\n",
       "      <td>Montgomeryville</td>\n",
       "    </tr>\n",
       "    <tr>\n",
       "      <th>1</th>\n",
       "      <td>Fire: GAS-ODOR/LEAK</td>\n",
       "      <td>Norristown</td>\n",
       "    </tr>\n",
       "    <tr>\n",
       "      <th>2</th>\n",
       "      <td>EMS: CARDIAC EMERGENCY</td>\n",
       "      <td>Norristown</td>\n",
       "    </tr>\n",
       "  </tbody>\n",
       "</table>\n",
       "</div>"
      ],
      "text/plain": [
       "                     Title             Town\n",
       "0  EMS: DIABETIC EMERGENCY  Montgomeryville\n",
       "1      Fire: GAS-ODOR/LEAK       Norristown\n",
       "2   EMS: CARDIAC EMERGENCY       Norristown"
      ]
     },
     "execution_count": 20,
     "metadata": {},
     "output_type": "execute_result"
    }
   ],
   "source": [
    "em_with_town.head(3)"
   ]
  },
  {
   "cell_type": "code",
   "execution_count": 21,
   "metadata": {
    "collapsed": true
   },
   "outputs": [],
   "source": [
    "sbTowns = sbTowns.Town.value_counts().reset_index()\n",
    "sbTowns.columns = ['Town', 'Count']"
   ]
  },
  {
   "cell_type": "code",
   "execution_count": 22,
   "metadata": {},
   "outputs": [
    {
     "data": {
      "text/html": [
       "<div>\n",
       "<table border=\"1\" class=\"dataframe\">\n",
       "  <thead>\n",
       "    <tr style=\"text-align: right;\">\n",
       "      <th></th>\n",
       "      <th>Town</th>\n",
       "      <th>Count</th>\n",
       "    </tr>\n",
       "  </thead>\n",
       "  <tbody>\n",
       "    <tr>\n",
       "      <th>0</th>\n",
       "      <td>Bala-Cynwyd</td>\n",
       "      <td>7</td>\n",
       "    </tr>\n",
       "    <tr>\n",
       "      <th>1</th>\n",
       "      <td>King of Prussia</td>\n",
       "      <td>6</td>\n",
       "    </tr>\n",
       "    <tr>\n",
       "      <th>2</th>\n",
       "      <td>Montgomeryville</td>\n",
       "      <td>5</td>\n",
       "    </tr>\n",
       "    <tr>\n",
       "      <th>3</th>\n",
       "      <td>Rockledge</td>\n",
       "      <td>3</td>\n",
       "    </tr>\n",
       "    <tr>\n",
       "      <th>4</th>\n",
       "      <td>Willow Grove</td>\n",
       "      <td>3</td>\n",
       "    </tr>\n",
       "  </tbody>\n",
       "</table>\n",
       "</div>"
      ],
      "text/plain": [
       "              Town  Count\n",
       "0      Bala-Cynwyd      7\n",
       "1  King of Prussia      6\n",
       "2  Montgomeryville      5\n",
       "3        Rockledge      3\n",
       "4     Willow Grove      3"
      ]
     },
     "execution_count": 22,
     "metadata": {},
     "output_type": "execute_result"
    }
   ],
   "source": [
    "sbTowns.head()"
   ]
  },
  {
   "cell_type": "markdown",
   "metadata": {},
   "source": [
    "We've built the necessary data frames, now we need to perform merge operation"
   ]
  },
  {
   "cell_type": "code",
   "execution_count": 23,
   "metadata": {},
   "outputs": [
    {
     "data": {
      "text/html": [
       "<div>\n",
       "<table border=\"1\" class=\"dataframe\">\n",
       "  <thead>\n",
       "    <tr style=\"text-align: right;\">\n",
       "      <th></th>\n",
       "      <th>Town</th>\n",
       "      <th>SBcount</th>\n",
       "      <th>Incident</th>\n",
       "    </tr>\n",
       "  </thead>\n",
       "  <tbody>\n",
       "    <tr>\n",
       "      <th>0</th>\n",
       "      <td>Bala-Cynwyd</td>\n",
       "      <td>7</td>\n",
       "      <td>Traffic: VEHICLE ACCIDENT -</td>\n",
       "    </tr>\n",
       "    <tr>\n",
       "      <th>1</th>\n",
       "      <td>Bala-Cynwyd</td>\n",
       "      <td>7</td>\n",
       "      <td>Traffic: DISABLED VEHICLE -</td>\n",
       "    </tr>\n",
       "    <tr>\n",
       "      <th>2</th>\n",
       "      <td>Bala-Cynwyd</td>\n",
       "      <td>7</td>\n",
       "      <td>Traffic: VEHICLE ACCIDENT -</td>\n",
       "    </tr>\n",
       "    <tr>\n",
       "      <th>3</th>\n",
       "      <td>Bala-Cynwyd</td>\n",
       "      <td>7</td>\n",
       "      <td>Traffic: VEHICLE ACCIDENT -</td>\n",
       "    </tr>\n",
       "    <tr>\n",
       "      <th>4</th>\n",
       "      <td>Bala-Cynwyd</td>\n",
       "      <td>7</td>\n",
       "      <td>EMS: FALL VICTIM</td>\n",
       "    </tr>\n",
       "  </tbody>\n",
       "</table>\n",
       "</div>"
      ],
      "text/plain": [
       "          Town  SBcount                     Incident\n",
       "0  Bala-Cynwyd        7  Traffic: VEHICLE ACCIDENT -\n",
       "1  Bala-Cynwyd        7  Traffic: DISABLED VEHICLE -\n",
       "2  Bala-Cynwyd        7  Traffic: VEHICLE ACCIDENT -\n",
       "3  Bala-Cynwyd        7  Traffic: VEHICLE ACCIDENT -\n",
       "4  Bala-Cynwyd        7             EMS: FALL VICTIM"
      ]
     },
     "execution_count": 23,
     "metadata": {},
     "output_type": "execute_result"
    }
   ],
   "source": [
    "df = pd.merge(sbTowns, em_with_town, how=\"inner\", on=['Town'])\n",
    "df.columns=['Town', 'SBcount', 'Incident']\n",
    "df.head()"
   ]
  },
  {
   "cell_type": "code",
   "execution_count": 24,
   "metadata": {},
   "outputs": [
    {
     "data": {
      "text/html": [
       "<div>\n",
       "<table border=\"1\" class=\"dataframe\">\n",
       "  <thead>\n",
       "    <tr style=\"text-align: right;\">\n",
       "      <th></th>\n",
       "      <th>Population</th>\n",
       "      <th>Town</th>\n",
       "    </tr>\n",
       "  </thead>\n",
       "  <tbody>\n",
       "    <tr>\n",
       "      <th>0</th>\n",
       "      <td>9619</td>\n",
       "      <td>Bala-Cynwyd</td>\n",
       "    </tr>\n",
       "    <tr>\n",
       "      <th>1</th>\n",
       "      <td>19936</td>\n",
       "      <td>King of Prussia</td>\n",
       "    </tr>\n",
       "    <tr>\n",
       "      <th>2</th>\n",
       "      <td>12624</td>\n",
       "      <td>Montgomeryville</td>\n",
       "    </tr>\n",
       "  </tbody>\n",
       "</table>\n",
       "</div>"
      ],
      "text/plain": [
       "   Population             Town\n",
       "0        9619      Bala-Cynwyd\n",
       "1       19936  King of Prussia\n",
       "2       12624  Montgomeryville"
      ]
     },
     "execution_count": 24,
     "metadata": {},
     "output_type": "execute_result"
    }
   ],
   "source": [
    "populationDF = pd.DataFrame(list(populations.keys()), list(populations.values())).reset_index()\n",
    "populationDF.columns = ['Population', 'Town']\n",
    "populationDF.head(3)"
   ]
  },
  {
   "cell_type": "code",
   "execution_count": 25,
   "metadata": {
    "collapsed": true
   },
   "outputs": [],
   "source": [
    "df = pd.merge(df, populationDF, how=\"inner\", on=[\"Town\"])"
   ]
  },
  {
   "cell_type": "code",
   "execution_count": 28,
   "metadata": {},
   "outputs": [
    {
     "data": {
      "text/html": [
       "<div>\n",
       "<table border=\"1\" class=\"dataframe\">\n",
       "  <thead>\n",
       "    <tr style=\"text-align: right;\">\n",
       "      <th></th>\n",
       "      <th>Town</th>\n",
       "      <th>SBcount</th>\n",
       "      <th>Incident</th>\n",
       "      <th>Population</th>\n",
       "    </tr>\n",
       "  </thead>\n",
       "  <tbody>\n",
       "    <tr>\n",
       "      <th>0</th>\n",
       "      <td>Bala-Cynwyd</td>\n",
       "      <td>7</td>\n",
       "      <td>Traffic: VEHICLE ACCIDENT -</td>\n",
       "      <td>9619</td>\n",
       "    </tr>\n",
       "    <tr>\n",
       "      <th>1</th>\n",
       "      <td>Bala-Cynwyd</td>\n",
       "      <td>7</td>\n",
       "      <td>Traffic: DISABLED VEHICLE -</td>\n",
       "      <td>9619</td>\n",
       "    </tr>\n",
       "    <tr>\n",
       "      <th>2</th>\n",
       "      <td>Bala-Cynwyd</td>\n",
       "      <td>7</td>\n",
       "      <td>Traffic: VEHICLE ACCIDENT -</td>\n",
       "      <td>9619</td>\n",
       "    </tr>\n",
       "  </tbody>\n",
       "</table>\n",
       "</div>"
      ],
      "text/plain": [
       "          Town  SBcount                     Incident  Population\n",
       "0  Bala-Cynwyd        7  Traffic: VEHICLE ACCIDENT -        9619\n",
       "1  Bala-Cynwyd        7  Traffic: DISABLED VEHICLE -        9619\n",
       "2  Bala-Cynwyd        7  Traffic: VEHICLE ACCIDENT -        9619"
      ]
     },
     "execution_count": 28,
     "metadata": {},
     "output_type": "execute_result"
    }
   ],
   "source": [
    "df.head(3)"
   ]
  },
  {
   "cell_type": "code",
   "execution_count": 29,
   "metadata": {},
   "outputs": [
    {
     "data": {
      "text/html": [
       "<div>\n",
       "<table border=\"1\" class=\"dataframe\">\n",
       "  <thead>\n",
       "    <tr style=\"text-align: right;\">\n",
       "      <th></th>\n",
       "      <th>Town</th>\n",
       "      <th>SBcount</th>\n",
       "      <th>Incident</th>\n",
       "      <th>Population</th>\n",
       "    </tr>\n",
       "  </thead>\n",
       "  <tbody>\n",
       "    <tr>\n",
       "      <th>96895</th>\n",
       "      <td>Audubon</td>\n",
       "      <td>1</td>\n",
       "      <td>Traffic: ROAD OBSTRUCTION -</td>\n",
       "      <td>8814</td>\n",
       "    </tr>\n",
       "    <tr>\n",
       "      <th>96896</th>\n",
       "      <td>Audubon</td>\n",
       "      <td>1</td>\n",
       "      <td>Traffic: ROAD OBSTRUCTION -</td>\n",
       "      <td>8814</td>\n",
       "    </tr>\n",
       "    <tr>\n",
       "      <th>96897</th>\n",
       "      <td>Audubon</td>\n",
       "      <td>1</td>\n",
       "      <td>EMS: UNCONSCIOUS SUBJECT</td>\n",
       "      <td>8814</td>\n",
       "    </tr>\n",
       "  </tbody>\n",
       "</table>\n",
       "</div>"
      ],
      "text/plain": [
       "          Town  SBcount                     Incident  Population\n",
       "96895  Audubon        1  Traffic: ROAD OBSTRUCTION -        8814\n",
       "96896  Audubon        1  Traffic: ROAD OBSTRUCTION -        8814\n",
       "96897  Audubon        1     EMS: UNCONSCIOUS SUBJECT        8814"
      ]
     },
     "execution_count": 29,
     "metadata": {},
     "output_type": "execute_result"
    }
   ],
   "source": [
    "df.tail(3)"
   ]
  },
  {
   "cell_type": "markdown",
   "metadata": {},
   "source": [
    "As mentioned in file 1 and can be seen above, there are numerous types of incidents. We shall define a well defined categorical data group to ease our processing"
   ]
  },
  {
   "cell_type": "code",
   "execution_count": 30,
   "metadata": {
    "collapsed": true
   },
   "outputs": [],
   "source": [
    "def simplifyIncident(s):\n",
    "    simplified = s[:s.find(':')]\n",
    "    return simplified"
   ]
  },
  {
   "cell_type": "code",
   "execution_count": 31,
   "metadata": {
    "collapsed": true
   },
   "outputs": [],
   "source": [
    "df['Incident'] = df.apply(lambda x: simplifyIncident(x['Incident']), axis=\"columns\");"
   ]
  },
  {
   "cell_type": "code",
   "execution_count": 32,
   "metadata": {},
   "outputs": [
    {
     "data": {
      "text/html": [
       "<div>\n",
       "<table border=\"1\" class=\"dataframe\">\n",
       "  <thead>\n",
       "    <tr style=\"text-align: right;\">\n",
       "      <th></th>\n",
       "      <th>Town</th>\n",
       "      <th>SBcount</th>\n",
       "      <th>Incident</th>\n",
       "      <th>Population</th>\n",
       "    </tr>\n",
       "  </thead>\n",
       "  <tbody>\n",
       "    <tr>\n",
       "      <th>0</th>\n",
       "      <td>Bala-Cynwyd</td>\n",
       "      <td>7</td>\n",
       "      <td>Traffic</td>\n",
       "      <td>9619</td>\n",
       "    </tr>\n",
       "    <tr>\n",
       "      <th>1</th>\n",
       "      <td>Bala-Cynwyd</td>\n",
       "      <td>7</td>\n",
       "      <td>Traffic</td>\n",
       "      <td>9619</td>\n",
       "    </tr>\n",
       "    <tr>\n",
       "      <th>2</th>\n",
       "      <td>Bala-Cynwyd</td>\n",
       "      <td>7</td>\n",
       "      <td>Traffic</td>\n",
       "      <td>9619</td>\n",
       "    </tr>\n",
       "    <tr>\n",
       "      <th>3</th>\n",
       "      <td>Bala-Cynwyd</td>\n",
       "      <td>7</td>\n",
       "      <td>Traffic</td>\n",
       "      <td>9619</td>\n",
       "    </tr>\n",
       "    <tr>\n",
       "      <th>4</th>\n",
       "      <td>Bala-Cynwyd</td>\n",
       "      <td>7</td>\n",
       "      <td>EMS</td>\n",
       "      <td>9619</td>\n",
       "    </tr>\n",
       "  </tbody>\n",
       "</table>\n",
       "</div>"
      ],
      "text/plain": [
       "          Town  SBcount Incident  Population\n",
       "0  Bala-Cynwyd        7  Traffic        9619\n",
       "1  Bala-Cynwyd        7  Traffic        9619\n",
       "2  Bala-Cynwyd        7  Traffic        9619\n",
       "3  Bala-Cynwyd        7  Traffic        9619\n",
       "4  Bala-Cynwyd        7      EMS        9619"
      ]
     },
     "execution_count": 32,
     "metadata": {},
     "output_type": "execute_result"
    }
   ],
   "source": [
    "df.head()"
   ]
  },
  {
   "cell_type": "code",
   "execution_count": 22,
   "metadata": {},
   "outputs": [
    {
     "data": {
      "text/plain": [
       "EMS        50209\n",
       "Traffic    32522\n",
       "Fire       14167\n",
       "Name: Incident, dtype: int64"
      ]
     },
     "execution_count": 22,
     "metadata": {},
     "output_type": "execute_result"
    }
   ],
   "source": [
    "df.Incident.value_counts()"
   ]
  },
  {
   "cell_type": "markdown",
   "metadata": {},
   "source": [
    "The data frame we want has the following columns:<br />\n",
    "Town, SBcount, EMScount, TrafficCount, FireCount, Population<br />\n",
    "We shall group our queries with respect to town and have one row for each town. For example, we can see the number of traffic related calls in Bala-Cynwyd"
   ]
  },
  {
   "cell_type": "code",
   "execution_count": 33,
   "metadata": {},
   "outputs": [
    {
     "data": {
      "text/plain": [
       "1430"
      ]
     },
     "execution_count": 33,
     "metadata": {},
     "output_type": "execute_result"
    }
   ],
   "source": [
    "len(df[(df.Incident == \"Traffic\") & (df.Town == \"Bala-Cynwyd\")])"
   ]
  },
  {
   "cell_type": "code",
   "execution_count": 34,
   "metadata": {
    "collapsed": true
   },
   "outputs": [],
   "source": [
    "ems_counts = []\n",
    "fire_counts = []\n",
    "traffic_counts = []\n",
    "\n",
    "for town in populations.keys():\n",
    "    ems_counts.append( len(df[(df.Incident == \"EMS\") & (df.Town == town)]) )\n",
    "    fire_counts.append( len(df[(df.Incident == \"Fire\") & (df.Town == town)] ) )\n",
    "    traffic_counts.append( len(df[(df.Incident == \"Traffic\") & (df.Town == town)] ) )"
   ]
  },
  {
   "cell_type": "markdown",
   "metadata": {},
   "source": [
    "Now that we have these counts, we can drop the redundant rows in the dataframe to hold a single row per town"
   ]
  },
  {
   "cell_type": "code",
   "execution_count": 35,
   "metadata": {
    "collapsed": true
   },
   "outputs": [],
   "source": [
    "df = df.drop_duplicates(subset=\"Town\").reset_index()"
   ]
  },
  {
   "cell_type": "code",
   "execution_count": 36,
   "metadata": {
    "collapsed": true
   },
   "outputs": [],
   "source": [
    "df = df.drop('index', axis=\"columns\")"
   ]
  },
  {
   "cell_type": "code",
   "execution_count": 37,
   "metadata": {
    "collapsed": true
   },
   "outputs": [],
   "source": [
    "df = df.drop('Incident', axis=\"columns\")"
   ]
  },
  {
   "cell_type": "code",
   "execution_count": 38,
   "metadata": {
    "collapsed": true
   },
   "outputs": [],
   "source": [
    "df['EMScount'] = ems_counts\n",
    "df['FireCount'] = fire_counts\n",
    "df['TrafficCount'] = traffic_counts\n",
    "total_911_count = []\n",
    "for i in range(27):\n",
    "    total_911_count.append(ems_counts[i] + fire_counts[i] + traffic_counts[i])\n",
    "df['TotalCalls'] = total_911_count"
   ]
  },
  {
   "cell_type": "code",
   "execution_count": 39,
   "metadata": {},
   "outputs": [
    {
     "data": {
      "text/html": [
       "<div>\n",
       "<table border=\"1\" class=\"dataframe\">\n",
       "  <thead>\n",
       "    <tr style=\"text-align: right;\">\n",
       "      <th></th>\n",
       "      <th>Town</th>\n",
       "      <th>SBcount</th>\n",
       "      <th>Population</th>\n",
       "      <th>EMScount</th>\n",
       "      <th>FireCount</th>\n",
       "      <th>TrafficCount</th>\n",
       "      <th>TotalCalls</th>\n",
       "    </tr>\n",
       "  </thead>\n",
       "  <tbody>\n",
       "    <tr>\n",
       "      <th>0</th>\n",
       "      <td>Bala-Cynwyd</td>\n",
       "      <td>7</td>\n",
       "      <td>9619</td>\n",
       "      <td>1109</td>\n",
       "      <td>473</td>\n",
       "      <td>1430</td>\n",
       "      <td>3012</td>\n",
       "    </tr>\n",
       "    <tr>\n",
       "      <th>1</th>\n",
       "      <td>King of Prussia</td>\n",
       "      <td>6</td>\n",
       "      <td>19936</td>\n",
       "      <td>2155</td>\n",
       "      <td>527</td>\n",
       "      <td>1193</td>\n",
       "      <td>3875</td>\n",
       "    </tr>\n",
       "    <tr>\n",
       "      <th>2</th>\n",
       "      <td>Montgomeryville</td>\n",
       "      <td>5</td>\n",
       "      <td>12624</td>\n",
       "      <td>1845</td>\n",
       "      <td>445</td>\n",
       "      <td>1741</td>\n",
       "      <td>4031</td>\n",
       "    </tr>\n",
       "    <tr>\n",
       "      <th>3</th>\n",
       "      <td>Rockledge</td>\n",
       "      <td>3</td>\n",
       "      <td>24998</td>\n",
       "      <td>2468</td>\n",
       "      <td>736</td>\n",
       "      <td>1955</td>\n",
       "      <td>5159</td>\n",
       "    </tr>\n",
       "    <tr>\n",
       "      <th>4</th>\n",
       "      <td>Willow Grove</td>\n",
       "      <td>3</td>\n",
       "      <td>15726</td>\n",
       "      <td>3209</td>\n",
       "      <td>794</td>\n",
       "      <td>2229</td>\n",
       "      <td>6232</td>\n",
       "    </tr>\n",
       "    <tr>\n",
       "      <th>5</th>\n",
       "      <td>Plymouth Meeting</td>\n",
       "      <td>3</td>\n",
       "      <td>6177</td>\n",
       "      <td>1668</td>\n",
       "      <td>550</td>\n",
       "      <td>1293</td>\n",
       "      <td>3511</td>\n",
       "    </tr>\n",
       "    <tr>\n",
       "      <th>6</th>\n",
       "      <td>Wyncote</td>\n",
       "      <td>2</td>\n",
       "      <td>3044</td>\n",
       "      <td>1054</td>\n",
       "      <td>369</td>\n",
       "      <td>803</td>\n",
       "      <td>2226</td>\n",
       "    </tr>\n",
       "    <tr>\n",
       "      <th>7</th>\n",
       "      <td>Flourtown</td>\n",
       "      <td>2</td>\n",
       "      <td>4538</td>\n",
       "      <td>1264</td>\n",
       "      <td>481</td>\n",
       "      <td>1093</td>\n",
       "      <td>2838</td>\n",
       "    </tr>\n",
       "    <tr>\n",
       "      <th>8</th>\n",
       "      <td>Pottstown</td>\n",
       "      <td>2</td>\n",
       "      <td>22392</td>\n",
       "      <td>1550</td>\n",
       "      <td>368</td>\n",
       "      <td>1525</td>\n",
       "      <td>3443</td>\n",
       "    </tr>\n",
       "    <tr>\n",
       "      <th>9</th>\n",
       "      <td>Bridgeport</td>\n",
       "      <td>2</td>\n",
       "      <td>4558</td>\n",
       "      <td>1336</td>\n",
       "      <td>378</td>\n",
       "      <td>1372</td>\n",
       "      <td>3086</td>\n",
       "    </tr>\n",
       "    <tr>\n",
       "      <th>10</th>\n",
       "      <td>Ardmore</td>\n",
       "      <td>2</td>\n",
       "      <td>24486</td>\n",
       "      <td>1007</td>\n",
       "      <td>359</td>\n",
       "      <td>532</td>\n",
       "      <td>1898</td>\n",
       "    </tr>\n",
       "    <tr>\n",
       "      <th>11</th>\n",
       "      <td>Horsham</td>\n",
       "      <td>2</td>\n",
       "      <td>14842</td>\n",
       "      <td>1413</td>\n",
       "      <td>420</td>\n",
       "      <td>890</td>\n",
       "      <td>2723</td>\n",
       "    </tr>\n",
       "    <tr>\n",
       "      <th>12</th>\n",
       "      <td>Trappe</td>\n",
       "      <td>2</td>\n",
       "      <td>3516</td>\n",
       "      <td>3720</td>\n",
       "      <td>869</td>\n",
       "      <td>860</td>\n",
       "      <td>5449</td>\n",
       "    </tr>\n",
       "    <tr>\n",
       "      <th>13</th>\n",
       "      <td>Collegeville</td>\n",
       "      <td>1</td>\n",
       "      <td>5094</td>\n",
       "      <td>2318</td>\n",
       "      <td>230</td>\n",
       "      <td>756</td>\n",
       "      <td>3304</td>\n",
       "    </tr>\n",
       "    <tr>\n",
       "      <th>14</th>\n",
       "      <td>Lansdale</td>\n",
       "      <td>1</td>\n",
       "      <td>16282</td>\n",
       "      <td>849</td>\n",
       "      <td>424</td>\n",
       "      <td>901</td>\n",
       "      <td>2174</td>\n",
       "    </tr>\n",
       "    <tr>\n",
       "      <th>15</th>\n",
       "      <td>Glenside</td>\n",
       "      <td>1</td>\n",
       "      <td>8384</td>\n",
       "      <td>8248</td>\n",
       "      <td>1804</td>\n",
       "      <td>3224</td>\n",
       "      <td>13276</td>\n",
       "    </tr>\n",
       "    <tr>\n",
       "      <th>16</th>\n",
       "      <td>Conshohocken</td>\n",
       "      <td>1</td>\n",
       "      <td>7842</td>\n",
       "      <td>949</td>\n",
       "      <td>356</td>\n",
       "      <td>701</td>\n",
       "      <td>2006</td>\n",
       "    </tr>\n",
       "    <tr>\n",
       "      <th>17</th>\n",
       "      <td>Spring House</td>\n",
       "      <td>1</td>\n",
       "      <td>3804</td>\n",
       "      <td>3109</td>\n",
       "      <td>976</td>\n",
       "      <td>2249</td>\n",
       "      <td>6334</td>\n",
       "    </tr>\n",
       "    <tr>\n",
       "      <th>18</th>\n",
       "      <td>Sanatoga</td>\n",
       "      <td>1</td>\n",
       "      <td>8378</td>\n",
       "      <td>1211</td>\n",
       "      <td>660</td>\n",
       "      <td>949</td>\n",
       "      <td>2820</td>\n",
       "    </tr>\n",
       "    <tr>\n",
       "      <th>19</th>\n",
       "      <td>Bryn Mawr</td>\n",
       "      <td>1</td>\n",
       "      <td>3779</td>\n",
       "      <td>806</td>\n",
       "      <td>225</td>\n",
       "      <td>287</td>\n",
       "      <td>1318</td>\n",
       "    </tr>\n",
       "    <tr>\n",
       "      <th>20</th>\n",
       "      <td>Jenkintown</td>\n",
       "      <td>1</td>\n",
       "      <td>4426</td>\n",
       "      <td>1003</td>\n",
       "      <td>289</td>\n",
       "      <td>1075</td>\n",
       "      <td>2367</td>\n",
       "    </tr>\n",
       "    <tr>\n",
       "      <th>21</th>\n",
       "      <td>Norristown</td>\n",
       "      <td>1</td>\n",
       "      <td>34347</td>\n",
       "      <td>770</td>\n",
       "      <td>317</td>\n",
       "      <td>828</td>\n",
       "      <td>1915</td>\n",
       "    </tr>\n",
       "    <tr>\n",
       "      <th>22</th>\n",
       "      <td>Dresher</td>\n",
       "      <td>1</td>\n",
       "      <td>5395</td>\n",
       "      <td>763</td>\n",
       "      <td>207</td>\n",
       "      <td>781</td>\n",
       "      <td>1751</td>\n",
       "    </tr>\n",
       "    <tr>\n",
       "      <th>23</th>\n",
       "      <td>Wyndmoor</td>\n",
       "      <td>1</td>\n",
       "      <td>5498</td>\n",
       "      <td>1269</td>\n",
       "      <td>669</td>\n",
       "      <td>1353</td>\n",
       "      <td>3291</td>\n",
       "    </tr>\n",
       "    <tr>\n",
       "      <th>24</th>\n",
       "      <td>Narberth</td>\n",
       "      <td>1</td>\n",
       "      <td>4284</td>\n",
       "      <td>2799</td>\n",
       "      <td>650</td>\n",
       "      <td>1321</td>\n",
       "      <td>4770</td>\n",
       "    </tr>\n",
       "    <tr>\n",
       "      <th>25</th>\n",
       "      <td>Trooper</td>\n",
       "      <td>1</td>\n",
       "      <td>5744</td>\n",
       "      <td>1494</td>\n",
       "      <td>336</td>\n",
       "      <td>635</td>\n",
       "      <td>2465</td>\n",
       "    </tr>\n",
       "    <tr>\n",
       "      <th>26</th>\n",
       "      <td>Audubon</td>\n",
       "      <td>1</td>\n",
       "      <td>8814</td>\n",
       "      <td>823</td>\n",
       "      <td>255</td>\n",
       "      <td>546</td>\n",
       "      <td>1624</td>\n",
       "    </tr>\n",
       "  </tbody>\n",
       "</table>\n",
       "</div>"
      ],
      "text/plain": [
       "                Town  SBcount  Population  EMScount  FireCount  TrafficCount  \\\n",
       "0        Bala-Cynwyd        7        9619      1109        473          1430   \n",
       "1    King of Prussia        6       19936      2155        527          1193   \n",
       "2    Montgomeryville        5       12624      1845        445          1741   \n",
       "3          Rockledge        3       24998      2468        736          1955   \n",
       "4       Willow Grove        3       15726      3209        794          2229   \n",
       "5   Plymouth Meeting        3        6177      1668        550          1293   \n",
       "6            Wyncote        2        3044      1054        369           803   \n",
       "7          Flourtown        2        4538      1264        481          1093   \n",
       "8          Pottstown        2       22392      1550        368          1525   \n",
       "9         Bridgeport        2        4558      1336        378          1372   \n",
       "10           Ardmore        2       24486      1007        359           532   \n",
       "11           Horsham        2       14842      1413        420           890   \n",
       "12            Trappe        2        3516      3720        869           860   \n",
       "13      Collegeville        1        5094      2318        230           756   \n",
       "14          Lansdale        1       16282       849        424           901   \n",
       "15          Glenside        1        8384      8248       1804          3224   \n",
       "16      Conshohocken        1        7842       949        356           701   \n",
       "17      Spring House        1        3804      3109        976          2249   \n",
       "18          Sanatoga        1        8378      1211        660           949   \n",
       "19         Bryn Mawr        1        3779       806        225           287   \n",
       "20        Jenkintown        1        4426      1003        289          1075   \n",
       "21        Norristown        1       34347       770        317           828   \n",
       "22           Dresher        1        5395       763        207           781   \n",
       "23          Wyndmoor        1        5498      1269        669          1353   \n",
       "24          Narberth        1        4284      2799        650          1321   \n",
       "25           Trooper        1        5744      1494        336           635   \n",
       "26           Audubon        1        8814       823        255           546   \n",
       "\n",
       "    TotalCalls  \n",
       "0         3012  \n",
       "1         3875  \n",
       "2         4031  \n",
       "3         5159  \n",
       "4         6232  \n",
       "5         3511  \n",
       "6         2226  \n",
       "7         2838  \n",
       "8         3443  \n",
       "9         3086  \n",
       "10        1898  \n",
       "11        2723  \n",
       "12        5449  \n",
       "13        3304  \n",
       "14        2174  \n",
       "15       13276  \n",
       "16        2006  \n",
       "17        6334  \n",
       "18        2820  \n",
       "19        1318  \n",
       "20        2367  \n",
       "21        1915  \n",
       "22        1751  \n",
       "23        3291  \n",
       "24        4770  \n",
       "25        2465  \n",
       "26        1624  "
      ]
     },
     "execution_count": 39,
     "metadata": {},
     "output_type": "execute_result"
    }
   ],
   "source": [
    "df"
   ]
  },
  {
   "cell_type": "markdown",
   "metadata": {
    "collapsed": true
   },
   "source": [
    "We now have the data frame we want!"
   ]
  },
  {
   "cell_type": "code",
   "execution_count": 40,
   "metadata": {
    "collapsed": true
   },
   "outputs": [],
   "source": [
    "df.to_pickle('./pickles/finalDF_incident.pickle')"
   ]
  }
 ],
 "metadata": {
  "kernelspec": {
   "display_name": "Python 3",
   "language": "python",
   "name": "python3"
  },
  "language_info": {
   "codemirror_mode": {
    "name": "ipython",
    "version": 3
   },
   "file_extension": ".py",
   "mimetype": "text/x-python",
   "name": "python",
   "nbconvert_exporter": "python",
   "pygments_lexer": "ipython3",
   "version": "3.6.0"
  }
 },
 "nbformat": 4,
 "nbformat_minor": 2
}
